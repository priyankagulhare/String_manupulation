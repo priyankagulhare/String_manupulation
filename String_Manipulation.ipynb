{
 "cells": [
  {
   "cell_type": "raw",
   "metadata": {},
   "source": [
    "\n",
    "Questions --\n",
    "\n",
    "#1 - arange the list in descending order wijthout using the sort function\n",
    "#2 - join 2 string count of each charcter\n",
    "#3 - digit num --list-- extract odd pplace character\n",
    "#4 - find commmon substring of length 2 "
   ]
  },
  {
   "cell_type": "code",
   "execution_count": 1,
   "metadata": {},
   "outputs": [
    {
     "name": "stdout",
     "output_type": "stream",
     "text": [
      "[7, 5, 4, 3, 2, 1]\n"
     ]
    }
   ],
   "source": [
    "#1 - arange the list in descending order wijthout using the sort function\n",
    "list1 = [2,5,7,1,3,4]\n",
    "\n",
    "#descending order\n",
    "list2 = []\n",
    "\n",
    "while list1:\n",
    "    x = list1[0] \n",
    "    for i in list1: \n",
    "        if i < x:\n",
    "            x = i\n",
    "    list2.append(x)\n",
    "    list1.remove(x)  \n",
    "\n",
    "list2 =list2[::-1]\n",
    "print(list2)\n"
   ]
  },
  {
   "cell_type": "code",
   "execution_count": 2,
   "metadata": {},
   "outputs": [
    {
     "name": "stdout",
     "output_type": "stream",
     "text": [
      "Counter({'a': 5, 'd': 5, 'c': 3, 'f': 3, 'b': 1, 'e': 1, 'g': 1, 's': 1})\n"
     ]
    }
   ],
   "source": [
    "#2 - join 2 string count of each charcter\n",
    "from collections import Counter\n",
    "s1 ='aaabcdefccg'\n",
    "s2 = 'aasdddffd'\n",
    "s3 = s1 + s2\n",
    "count = Counter(s3)\n",
    "print(count)"
   ]
  },
  {
   "cell_type": "code",
   "execution_count": null,
   "metadata": {},
   "outputs": [],
   "source": []
  },
  {
   "cell_type": "code",
   "execution_count": 3,
   "metadata": {},
   "outputs": [
    {
     "name": "stdout",
     "output_type": "stream",
     "text": [
      "[5, 1, 4]\n"
     ]
    }
   ],
   "source": [
    "#3 - 10 digit num --list-- extract odd pplace character\n",
    "list1 = [2,5,7,1,3,4]\n",
    "list2 = list1[1::2]\n",
    "\n",
    "print(list2)"
   ]
  },
  {
   "cell_type": "code",
   "execution_count": 4,
   "metadata": {},
   "outputs": [
    {
     "name": "stdout",
     "output_type": "stream",
     "text": [
      "['aa']\n"
     ]
    }
   ],
   "source": [
    "#4 - find commmon substring of length 2 \n",
    "s1 = 'aaabcdefccg'\n",
    "s2 = 'jijjjaa'\n",
    "\n",
    "\n",
    "def common_substng(s1, s2):\n",
    "    list2 = []\n",
    "    x = len(s1)\n",
    "    for i in range(2, x):\n",
    "        for j in range(0, x, i):\n",
    "            y = j+i\n",
    "            if y > x:\n",
    "                continue\n",
    "            v = s1[j:y]\n",
    "            if v in s2 and len(v) ==2:\n",
    "                list2.append(v)\n",
    "    return list2\n",
    "\n",
    "a = common_substng(s1,s2)\n",
    "print(a)\n"
   ]
  }
 ],
 "metadata": {
  "kernelspec": {
   "display_name": "Python 3",
   "language": "python",
   "name": "python3"
  },
  "language_info": {
   "codemirror_mode": {
    "name": "ipython",
    "version": 3
   },
   "file_extension": ".py",
   "mimetype": "text/x-python",
   "name": "python",
   "nbconvert_exporter": "python",
   "pygments_lexer": "ipython3",
   "version": "3.6.4"
  }
 },
 "nbformat": 4,
 "nbformat_minor": 2
}
